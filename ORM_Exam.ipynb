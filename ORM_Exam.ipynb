{
 "cells": [
  {
   "cell_type": "code",
   "execution_count": 1,
   "id": "e8f4e344",
   "metadata": {},
   "outputs": [],
   "source": [
    "# mypoll/ORM_Exam.ipynb\n",
    "\n",
    "# Jupyter Lab에서 Django shell을 실행하기 위한 설정\n",
    "import os\n",
    "import django\n",
    "# 환경변수로 config/settings.py의 위치를 설정\n",
    "os.environ[\"DJANGO_SETTINGS_MODULE\"] = \"config.settings\"\n",
    "os.environ[\"DJANGO_ALLOW_ASYNC_UNSAFE\"] = \"true\"\n",
    "\n",
    "django.setup()"
   ]
  },
  {
   "cell_type": "code",
   "execution_count": 3,
   "id": "dad10a49",
   "metadata": {},
   "outputs": [
    {
     "data": {
      "text/plain": [
       "<QuerySet [<Question: 1. 좋아하는 색깔은 무엇입니까?>, <Question: 2. 좋아하는 동물은 무엇입니까?>, <Question: 3. 싫어하는 색깔을 고르세요>, <Question: 4. 여행가고 싶은 나라는?>]>"
      ]
     },
     "execution_count": 3,
     "metadata": {},
     "output_type": "execute_result"
    }
   ],
   "source": [
    "# 조회 테스트\n",
    "from polls.models import Question, Choice\n",
    "\n",
    "q = Question.objects.all()\n",
    "q"
   ]
  },
  {
   "cell_type": "markdown",
   "id": "51fb7e35",
   "metadata": {},
   "source": [
    "# 조회\n",
    "- ModelClass.object -> Model Manager를 반환.\n",
    "- ModelManager: SQL작업을 할 수 있는 메소드들을 제공하는 객체\n",
    "\n",
    "## 조회 메소드\n",
    "- `all()`: 전체 조회\n",
    "- `filter()`, `exclude()`: 조건으로 조회(where절)\n",
    "- `get()`: 조회결과가 하나인 조건으로 조회(PK로 조회)\n",
    "\n",
    "## 조회결과\n",
    "- `QuerySet` 객체: 조회결과가 여러 개일 때 QuerySet에 모아서 반환.\n",
    "    - 조회 결과를 바탕으로 추가 DB 작업을 진행할 수 있다.\n",
    "    - 개별 데이터는 Model 객체에 담아서 반환\n",
    "- Model 객체: 조회 결과가 하나 (`get()`)일 때"
   ]
  },
  {
   "cell_type": "code",
   "execution_count": 2,
   "id": "aab3acdc",
   "metadata": {},
   "outputs": [],
   "source": [
    "from polls.models import Question, Choice"
   ]
  },
  {
   "cell_type": "code",
   "execution_count": 3,
   "id": "4b205cbd",
   "metadata": {},
   "outputs": [
    {
     "data": {
      "text/plain": [
       "django.db.models.manager.Manager"
      ]
     },
     "execution_count": 3,
     "metadata": {},
     "output_type": "execute_result"
    }
   ],
   "source": [
    "model_manager = Question.objects\n",
    "type(model_manager)"
   ]
  },
  {
   "cell_type": "code",
   "execution_count": 5,
   "id": "9cb170d0",
   "metadata": {},
   "outputs": [
    {
     "name": "stdout",
     "output_type": "stream",
     "text": [
      "조회한 데이터 개수: 4\n",
      "all()로 실행된 SQL문을 조회\n",
      "SELECT \"polls_question\".\"id\", \"polls_question\".\"question_text\", \"polls_question\".\"pub_date\" FROM \"polls_question\"\n"
     ]
    }
   ],
   "source": [
    "result = model_manager.all()\n",
    "print(\"조회한 데이터 개수:\", len(result))\n",
    "print(\"all()로 실행된 SQL문을 조회\")\n",
    "print(result.query)"
   ]
  },
  {
   "cell_type": "code",
   "execution_count": 6,
   "id": "159b5709",
   "metadata": {},
   "outputs": [
    {
     "name": "stdout",
     "output_type": "stream",
     "text": [
      "<class 'django.db.models.query.QuerySet'>\n"
     ]
    },
    {
     "data": {
      "text/plain": [
       "<QuerySet [<Question: 1. 좋아하는 색깔은 무엇입니까?>, <Question: 2. 좋아하는 동물은 무엇입니까?>, <Question: 3. 싫어하는 색깔을 고르세요>, <Question: 4. 여행가고 싶은 나라는?>]>"
      ]
     },
     "execution_count": 6,
     "metadata": {},
     "output_type": "execute_result"
    }
   ],
   "source": [
    "print(type(result))\n",
    "result"
   ]
  },
  {
   "cell_type": "code",
   "execution_count": 31,
   "id": "6953ccc8",
   "metadata": {},
   "outputs": [
    {
     "name": "stdout",
     "output_type": "stream",
     "text": [
      "2 2\n",
      "좋아하는 동물은 무엇입니까? 2025-07-07 05:17:27.658555+00:00\n",
      "<class 'int'> <class 'str'> <class 'datetime.datetime'>\n"
     ]
    }
   ],
   "source": [
    "# QuerySet -> Iterable\n",
    "q = result[1]\n",
    "print(q.id, q.pk)\n",
    "print(q.question_text, q.pub_date)\n",
    "print(type(q.pk), type(q.question_text), type(q.pub_date))"
   ]
  },
  {
   "cell_type": "code",
   "execution_count": 33,
   "id": "6f5e8108",
   "metadata": {},
   "outputs": [
    {
     "data": {
      "text/plain": [
       "(1, 4)"
      ]
     },
     "execution_count": 33,
     "metadata": {},
     "output_type": "execute_result"
    }
   ],
   "source": [
    "# QuerySet - 첫 번째, 마지막 index값 조회\n",
    "q_s = result.first()\n",
    "q_e = result.last()\n",
    "q_s.pk, q_e.pk"
   ]
  },
  {
   "cell_type": "code",
   "execution_count": 36,
   "id": "b96089c2",
   "metadata": {},
   "outputs": [
    {
     "name": "stdout",
     "output_type": "stream",
     "text": [
      "<class 'list'>\n"
     ]
    },
    {
     "data": {
      "text/plain": [
       "[<Question: 2. 좋아하는 동물은 무엇입니까?>, <Question: 3. 싫어하는 색깔을 고르세요>]"
      ]
     },
     "execution_count": 36,
     "metadata": {},
     "output_type": "execute_result"
    }
   ],
   "source": [
    "# slicing -> 결과: list\n",
    "s_result = result[1:3] # 음수 인덱싱은 지원하지 않는다.\n",
    "print(type(s_result))\n",
    "s_result"
   ]
  },
  {
   "cell_type": "code",
   "execution_count": 44,
   "id": "3615f347",
   "metadata": {},
   "outputs": [
    {
     "data": {
      "text/plain": [
       "<QuerySet [<Question: 3. 싫어하는 색깔을 고르세요>, <Question: 4. 여행가고 싶은 나라는?>, <Question: 2. 좋아하는 동물은 무엇입니까?>, <Question: 1. 좋아하는 색깔은 무엇입니까?>]>"
      ]
     },
     "execution_count": 44,
     "metadata": {},
     "output_type": "execute_result"
    }
   ],
   "source": [
    "# QuerySet을 이용해서 정렬 (order by)\n",
    "#     - QS.orderby(\"기준Field명\"): ASC, QS.orderby(\"-기준Field명\"): DESC\n",
    "result.order_by(\"question_text\")"
   ]
  },
  {
   "cell_type": "code",
   "execution_count": 46,
   "id": "cc9417d7",
   "metadata": {},
   "outputs": [],
   "source": [
    "# Question.objects.all().order_by(\"q_t\")\n",
    "# select *\n",
    "# from Question\n",
    "# order by question_text desc"
   ]
  },
  {
   "cell_type": "code",
   "execution_count": 55,
   "id": "b5be824a",
   "metadata": {},
   "outputs": [
    {
     "name": "stdout",
     "output_type": "stream",
     "text": [
      "2 노란색 0\n",
      "6 보라색 5\n",
      "4 보라색 0\n",
      "5 빨간색 3\n",
      "3 주황색 0\n",
      "1 파란색 7\n"
     ]
    }
   ],
   "source": [
    "# Choice에 모든 데이터를 조회 -> question 컬럼 기준으로 정렬\n",
    "results = Choice.objects.all().order_by(\"choice_text\", \"-votes\")\n",
    "for c in results:\n",
    "    print(c.pk, c.choice_text, c.votes) "
   ]
  },
  {
   "cell_type": "code",
   "execution_count": 56,
   "id": "156d6bb7",
   "metadata": {},
   "outputs": [
    {
     "name": "stdout",
     "output_type": "stream",
     "text": [
      "SELECT \"polls_choice\".\"id\", \"polls_choice\".\"choice_text\", \"polls_choice\".\"votes\", \"polls_choice\".\"question_id\" FROM \"polls_choice\" ORDER BY \"polls_choice\".\"choice_text\" ASC, \"polls_choice\".\"votes\" DESC\n"
     ]
    }
   ],
   "source": [
    "print(results.query)"
   ]
  },
  {
   "cell_type": "markdown",
   "id": "912a62c3",
   "metadata": {},
   "source": [
    "### Where 절\n",
    "- filter()\n",
    "    - 조회 조건이 True인 행들을 조회 -> QuerySet을 반환\n",
    "- exclude()\n",
    "    - 조회 조건이 False인 행들을 조회 -> QuerySet을 반환\n",
    "- get()\n",
    "    - 조회 조건이 True인 행이 1개일 때 조회 -> Model에 결과를 담아서 반환\n",
    "    - 조회 결과가 2행 이상 or 없을 경우 Exception 발생\n",
    "- **조회조건**\n",
    "    - `Field이름__비교연산자 = 비교할 값`"
   ]
  },
  {
   "cell_type": "code",
   "execution_count": 64,
   "id": "79533584",
   "metadata": {},
   "outputs": [
    {
     "name": "stdout",
     "output_type": "stream",
     "text": [
      "<class 'django.db.models.query.QuerySet'>\n",
      "<QuerySet [<Question: 2. 좋아하는 동물은 무엇입니까?>, <Question: 3. 싫어하는 색깔을 고르세요>, <Question: 4. 여행가고 싶은 나라는?>]>\n"
     ]
    }
   ],
   "source": [
    "# pk 조회 -> 결과 1행 | 0행\n",
    "result = Question.objects.get(pk=1) # where id = 1. 조회 결과가 1개\n",
    "result = Question.objects.filter(pk=1) # where id = 1. 조회 결과가 0개 이상\n",
    "result = Question.objects.exclude(pk=1) # where id != 1.\n",
    "print(type(result))\n",
    "print(result)"
   ]
  },
  {
   "cell_type": "code",
   "execution_count": 70,
   "id": "26cf5a7b",
   "metadata": {},
   "outputs": [
    {
     "name": "stdout",
     "output_type": "stream",
     "text": [
      "5. 빨간색\n"
     ]
    }
   ],
   "source": [
    "# 비교 연산\n",
    "result = Choice.objects.filter(pk__lt=5) # where pk < 5\n",
    "result = Choice.objects.filter(pk__lte=5) # where pk <= 5\n",
    "result = Choice.objects.filter(pk__gt=5) # where pk > 5\n",
    "result = Choice.objects.filter(pk__gte=5) # where pk >= 5\n",
    "result = Choice.objects.filter(pk=5) # where pk = 5\n",
    "\n",
    "for r in result:\n",
    "    print(r)"
   ]
  },
  {
   "cell_type": "code",
   "execution_count": 80,
   "id": "490d6d67",
   "metadata": {},
   "outputs": [
    {
     "name": "stdout",
     "output_type": "stream",
     "text": [
      "SELECT \"polls_question\".\"id\", \"polls_question\".\"question_text\", \"polls_question\".\"pub_date\" FROM \"polls_question\" WHERE \"polls_question\".\"question_text\" LIKE 싫어하는% ESCAPE '\\'\n",
      "3. 싫어하는 색깔을 고르세요\n"
     ]
    }
   ],
   "source": [
    "# 문자열 부분일치 - like (xxx를 포함, xxx로 시작, xxx로 끝)\n",
    "result = Question.objects.filter(question_text__contains='색깔') # question_text like '%색깔%'\n",
    "result = Question.objects.filter(question_text__endswith='고르세요') # question_text like '%고르세요'\n",
    "result = Question.objects.filter(question_text__startswith='싫어하는') # question_text like '싫어하는%'\n",
    "\n",
    "print(result.query)\n",
    "for r in result:\n",
    "    print(r)"
   ]
  },
  {
   "cell_type": "code",
   "execution_count": 81,
   "id": "f0c7ca06",
   "metadata": {},
   "outputs": [
    {
     "name": "stdout",
     "output_type": "stream",
     "text": [
      "SELECT \"polls_choice\".\"id\", \"polls_choice\".\"choice_text\", \"polls_choice\".\"votes\", \"polls_choice\".\"question_id\" FROM \"polls_choice\" WHERE NOT (\"polls_choice\".\"id\" IN (1, 3, 10))\n",
      "2. 노란색\n",
      "4. 보라색\n",
      "5. 빨간색\n",
      "6. 보라색\n"
     ]
    }
   ],
   "source": [
    "# in 연산\n",
    "result = Choice.objects.filter(pk__in=[1,3,10]) # pk in (1, 3, 10)\n",
    "result = Choice.objects.exclude(pk__in=[1,3,10]) # pk not in (1, 3, 10)\n",
    "\n",
    "print(result.query)\n",
    "for r in result:\n",
    "    print(r)"
   ]
  },
  {
   "cell_type": "code",
   "execution_count": 85,
   "id": "41d78e24",
   "metadata": {},
   "outputs": [
    {
     "name": "stdout",
     "output_type": "stream",
     "text": [
      "SELECT \"polls_choice\".\"id\", \"polls_choice\".\"choice_text\", \"polls_choice\".\"votes\", \"polls_choice\".\"question_id\" FROM \"polls_choice\" WHERE NOT (\"polls_choice\".\"id\" BETWEEN 4 AND 8)\n",
      "1. 파란색\n",
      "2. 노란색\n",
      "3. 주황색\n"
     ]
    }
   ],
   "source": [
    "# between\n",
    "result = Choice.objects.filter(pk__range=[4, 8]) # pk between 4 and 8\n",
    "result = Choice.objects.exclude(pk__range=[4, 8]) # pk between 4 and 8\n",
    "\n",
    "print(result.query)\n",
    "for r in result:\n",
    "    print(r)"
   ]
  },
  {
   "cell_type": "markdown",
   "id": "52652559",
   "metadata": {},
   "source": [
    "#### where절의 and, or\n",
    "- `and`: 조건들을 나열\n",
    "- 각 조건을 `Q()`함수에 넣고 `|`로 연결"
   ]
  },
  {
   "cell_type": "code",
   "execution_count": 7,
   "id": "f326b553",
   "metadata": {},
   "outputs": [
    {
     "name": "stdout",
     "output_type": "stream",
     "text": [
      "SELECT \"polls_question\".\"id\", \"polls_question\".\"question_text\", \"polls_question\".\"pub_date\" FROM \"polls_question\" WHERE (NOT (\"polls_question\".\"question_text\" LIKE %고르세요 ESCAPE '\\') OR \"polls_question\".\"id\" >= 3)\n",
      "1. 좋아하는 색깔은 무엇입니까?\n",
      "2. 좋아하는 동물은 무엇입니까?\n",
      "3. 싫어하는 색깔을 고르세요\n",
      "4. 여행가고 싶은 나라는?\n"
     ]
    }
   ],
   "source": [
    "from django.db.models import Q\n",
    "\n",
    "result = Question.objects.filter(\n",
    "    ~Q(question_text__endswith='고르세요') | Q(pk__gte=3)\n",
    "    )\n",
    "\n",
    "print(result.query)\n",
    "for r in result:\n",
    "    print(r)"
   ]
  },
  {
   "cell_type": "code",
   "execution_count": 88,
   "id": "ccde0c3d",
   "metadata": {},
   "outputs": [
    {
     "data": {
      "text/plain": [
       "<Q: (OR: ('question_text__endswith', '고르세요'), ('pk__gte', 3))>"
      ]
     },
     "execution_count": 88,
     "metadata": {},
     "output_type": "execute_result"
    }
   ],
   "source": [
    "Q(question_text__endswith='고르세요') | Q(pk__gte=3)"
   ]
  },
  {
   "cell_type": "markdown",
   "id": "ac51db1d",
   "metadata": {},
   "source": [
    "### 조회할 컬럼들을 선택.\n",
    "- `values(Field명, ...)`\n",
    "- 개별 조회 결과를 Dictionary로 반환."
   ]
  },
  {
   "cell_type": "code",
   "execution_count": 95,
   "id": "f2ba1d8a",
   "metadata": {},
   "outputs": [
    {
     "name": "stdout",
     "output_type": "stream",
     "text": [
      "SELECT \"polls_choice\".\"id\" AS \"pk\", \"polls_choice\".\"votes\" AS \"votes\" FROM \"polls_choice\" WHERE \"polls_choice\".\"id\" < 5\n"
     ]
    },
    {
     "data": {
      "text/plain": [
       "<QuerySet [{'pk': 1, 'votes': 7}, {'pk': 2, 'votes': 0}, {'pk': 3, 'votes': 0}, {'pk': 4, 'votes': 0}]>"
      ]
     },
     "execution_count": 95,
     "metadata": {},
     "output_type": "execute_result"
    }
   ],
   "source": [
    "result = Question.objects.all().values(\"pk\",\"question_text\")\n",
    "result = Choice.objects.filter(pk__lt=5).values('pk','votes')\n",
    "# select pk, votes from choice where pk < 5\n",
    "print(result.query)\n",
    "result\n",
    "# for r in result:\n",
    "#     print(type(r), r['pk'], r['question_text'])"
   ]
  },
  {
   "cell_type": "markdown",
   "id": "548f34c3",
   "metadata": {
    "vscode": {
     "languageId": "sql"
    }
   },
   "source": [
    "### 집계함수\n",
    "- `aggregate(집계함수(집계기준 field명), 집계함수(field명), ...)`\n",
    "    - `select avg(salary), count(comm_pct), max(salary) from emp`\n",
    "\n",
    "**groupby**\n"
   ]
  },
  {
   "cell_type": "code",
   "execution_count": 97,
   "id": "fcf86ab6",
   "metadata": {},
   "outputs": [],
   "source": [
    "from django.db.models import (\n",
    "    Count, # 값의 개수(null 제외한)\n",
    "    Sum,   # 합계\n",
    "    Avg,   # 평균\n",
    "    Min,   # 최솟값\n",
    "    Max,   # 최댓값\n",
    "    StdDev, # 표준편차\n",
    "    Variance # 분산\n",
    ")"
   ]
  },
  {
   "cell_type": "code",
   "execution_count": 100,
   "id": "2ecdcfea",
   "metadata": {},
   "outputs": [
    {
     "name": "stdout",
     "output_type": "stream",
     "text": [
      "{'votes__count': 6, 'votes__avg': 2.5, 'pk__max': 6, 'pk__min': 1, 'votes__sum': 15, 'votes__stddev': 2.753785273643051, 'votes__variance': 7.583333333333333}\n"
     ]
    }
   ],
   "source": [
    "result = Choice.objects.aggregate(\n",
    "    Count(\"votes\"),\n",
    "    Avg(\"votes\"),\n",
    "    Max(\"pk\"),\n",
    "    Min(\"pk\"),\n",
    "    Sum(\"votes\"),\n",
    "    StdDev(\"votes\"),\n",
    "    Variance(\"votes\")\n",
    ")\n",
    "\n",
    "print(result)\n",
    "# 반환: dictionary\n",
    "# default key: field명__집계명"
   ]
  },
  {
   "cell_type": "code",
   "execution_count": 101,
   "id": "46d77616",
   "metadata": {},
   "outputs": [
    {
     "data": {
      "text/plain": [
       "{'cnt': 6, 'min': 0, 'max': 7}"
      ]
     },
     "execution_count": 101,
     "metadata": {},
     "output_type": "execute_result"
    }
   ],
   "source": [
    "result = Choice.objects.aggregate(\n",
    "    cnt=Count(\"votes\"),\n",
    "    min=Min(\"votes\"),\n",
    "    max=Max(\"votes\")\n",
    ")\n",
    "result"
   ]
  },
  {
   "cell_type": "code",
   "execution_count": 103,
   "id": "996de35e",
   "metadata": {},
   "outputs": [
    {
     "data": {
      "text/plain": [
       "{'min_max_diff': 5}"
      ]
     },
     "execution_count": 103,
     "metadata": {},
     "output_type": "execute_result"
    }
   ],
   "source": [
    "# 집계 결과를 연산\n",
    "# 변수명 = (집계함수 - 집계함수)\n",
    "Choice.objects.aggregate(min_max_diff = (Max(\"pk\") - Min(\"pk\")))"
   ]
  },
  {
   "cell_type": "code",
   "execution_count": 107,
   "id": "17f08131",
   "metadata": {},
   "outputs": [
    {
     "data": {
      "text/plain": [
       "<QuerySet [{'question': 1, 'min': 0, 'max': 7}]>"
      ]
     },
     "execution_count": 107,
     "metadata": {},
     "output_type": "execute_result"
    }
   ],
   "source": [
    "# groupby + 집계\n",
    "result = Choice.objects.values(\"question\").annotate(\n",
    "    min=Min(\"votes\"),\n",
    "    max=Max(\"votes\")\n",
    ")\n",
    "result"
   ]
  },
  {
   "cell_type": "markdown",
   "id": "7ba44603",
   "metadata": {},
   "source": [
    "### JOIN\n",
    "- 자식 테이블(모델) 기준으로 부모 테이블(모델) 데이터 조회\n",
    "- `자식모델객체.FK_Field`"
   ]
  },
  {
   "cell_type": "code",
   "execution_count": 8,
   "id": "235cba32",
   "metadata": {},
   "outputs": [
    {
     "data": {
      "text/plain": [
       "(1, 1, '파란색', 7, <Question: 1. 좋아하는 색깔은 무엇입니까?>)"
      ]
     },
     "execution_count": 8,
     "metadata": {},
     "output_type": "execute_result"
    }
   ],
   "source": [
    "# Choice(자식) --> Question(부모)\n",
    "c1 = Choice.objects.get(pk=1)\n",
    "c1.pk, c1.id, c1.choice_text, c1.votes, c1.question"
   ]
  },
  {
   "cell_type": "code",
   "execution_count": 9,
   "id": "309cf606",
   "metadata": {},
   "outputs": [
    {
     "data": {
      "text/plain": [
       "(1,\n",
       " '좋아하는 색깔은 무엇입니까?',\n",
       " datetime.datetime(2025, 7, 7, 5, 17, 1, 655423, tzinfo=datetime.timezone.utc))"
      ]
     },
     "execution_count": 9,
     "metadata": {},
     "output_type": "execute_result"
    }
   ],
   "source": [
    "# c1이 참조하는 question의 정보\n",
    "c1.question.pk, c1.question.question_text, c1.question.pub_date"
   ]
  },
  {
   "cell_type": "code",
   "execution_count": 16,
   "id": "489d2674",
   "metadata": {},
   "outputs": [
    {
     "name": "stdout",
     "output_type": "stream",
     "text": [
      "질문:좋아하는 색깔은 무엇입니까?, 버디:파란색\n",
      "질문:좋아하는 색깔은 무엇입니까?, 버디:노란색\n",
      "질문:좋아하는 색깔은 무엇입니까?, 버디:주황색\n",
      "질문:좋아하는 색깔은 무엇입니까?, 버디:보라색\n",
      "질문:좋아하는 색깔은 무엇입니까?, 버디:빨간색\n"
     ]
    }
   ],
   "source": [
    "result_list = Choice.objects.filter(pk__lte=5)\n",
    "# 조회한 Choice들의 질문 - 보기\n",
    "for result in result_list:\n",
    "    print(f\"질문:{result.question.question_text}, 버디:{result.choice_text}\")"
   ]
  },
  {
   "cell_type": "markdown",
   "id": "c06a45c2",
   "metadata": {},
   "source": [
    "- 부모테이블(모델) 기준으로 자식테이블의 데이터(모델)를 조회\n",
    "    - `부모모델객체.자식모델클래스이름(소문자)_set`를 통해서 부모객체를 참조하는 자식 데이터들을 조회할 수 있다."
   ]
  },
  {
   "cell_type": "code",
   "execution_count": 17,
   "id": "4fb9b981",
   "metadata": {},
   "outputs": [
    {
     "name": "stdout",
     "output_type": "stream",
     "text": [
      "1 좋아하는 색깔은 무엇입니까? 2025-07-07 05:17:01.655423+00:00\n"
     ]
    }
   ],
   "source": [
    "q1 = Question.objects.get(pk=1)\n",
    "q1\n",
    "print(q1.pk, q1.question_text, q1.pub_date)"
   ]
  },
  {
   "cell_type": "code",
   "execution_count": 19,
   "id": "e39dcb0f",
   "metadata": {},
   "outputs": [
    {
     "data": {
      "text/plain": [
       "<QuerySet [<Choice: 1. 파란색>, <Choice: 2. 노란색>, <Choice: 3. 주황색>, <Choice: 4. 보라색>, <Choice: 5. 빨간색>, <Choice: 6. 보라색>]>"
      ]
     },
     "execution_count": 19,
     "metadata": {},
     "output_type": "execute_result"
    }
   ],
   "source": [
    "# Related Manager -> 부모객체(q1)와 관련 있는 자식의 데이터들 안에서만 조회할 수 있는 Model Manager\n",
    "q1.choice_set\n",
    "\n",
    "choice_list = q1.choice_set.all()\n",
    "choice_list"
   ]
  },
  {
   "cell_type": "code",
   "execution_count": 20,
   "id": "7ec660a5",
   "metadata": {},
   "outputs": [
    {
     "name": "stdout",
     "output_type": "stream",
     "text": [
      "질문: 좋아하는 색깔은 무엇입니까?\n",
      "버디:\n",
      "1. 파란색, 7\n",
      "2. 노란색, 0\n",
      "3. 주황색, 0\n",
      "4. 보라색, 0\n",
      "5. 빨간색, 3\n",
      "6. 보라색, 5\n"
     ]
    }
   ],
   "source": [
    "print(\"질문:\", q1.question_text)\n",
    "print(\"버디:\")\n",
    "for c in choice_list:\n",
    "    print(f\"{c.pk}. {c.choice_text}, {c.votes}\")"
   ]
  },
  {
   "cell_type": "code",
   "execution_count": 22,
   "id": "8c4d5872",
   "metadata": {},
   "outputs": [
    {
     "name": "stdout",
     "output_type": "stream",
     "text": [
      "1. 좋아하는 색깔은 무엇입니까?\n",
      "\t1. 파란색 - 7\n",
      "\t2. 노란색 - 0\n",
      "\t3. 주황색 - 0\n",
      "\t4. 보라색 - 0\n",
      "\t5. 빨간색 - 3\n",
      "\t6. 보라색 - 5\n",
      "2. 좋아하는 동물은 무엇입니까?\n",
      "3. 싫어하는 색깔을 고르세요\n",
      "4. 여행가고 싶은 나라는?\n"
     ]
    }
   ],
   "source": [
    "# 전체 질문을 조회하고 그것에 대해서 위 형식으로 출력.\n",
    "q_list = Question.objects.all()\n",
    "for q in q_list:\n",
    "    print(f\"{q.pk}. {q.question_text}\")\n",
    "    c_list = q.choice_set.all()\n",
    "    for idx, c in enumerate(c_list, start=1):\n",
    "        print(f\"\\t{idx}. {c.choice_text} - {c.votes}\")"
   ]
  },
  {
   "cell_type": "markdown",
   "id": "516a500a",
   "metadata": {},
   "source": [
    "# insert / update\n",
    "- `모델객체.save()`\n",
    "- 모델객체의 pk가 DB에 없으면 insert, 있으면 update"
   ]
  },
  {
   "cell_type": "code",
   "execution_count": 23,
   "id": "45a1436c",
   "metadata": {},
   "outputs": [
    {
     "name": "stdout",
     "output_type": "stream",
     "text": [
      "배우고 싶은 언어는 무엇입니까?\n",
      "None None\n"
     ]
    }
   ],
   "source": [
    "# insert\n",
    "## question: pk_id : 자동증가 정수(생략), pub_date: insert할 때 일시를 추가(생략)\n",
    "new_q = Question(question_text=\"배우고 싶은 언어는 무엇입니까?\")\n",
    "print(new_q.question_text)\n",
    "print(new_q.pk, new_q.pub_date)"
   ]
  },
  {
   "cell_type": "code",
   "execution_count": 24,
   "id": "dd27862a",
   "metadata": {},
   "outputs": [],
   "source": [
    "# 저장 - pk: None (DB에 없는 데이터) ==> insert\n",
    "new_q.save()"
   ]
  },
  {
   "cell_type": "code",
   "execution_count": 25,
   "id": "572965ca",
   "metadata": {},
   "outputs": [
    {
     "name": "stdout",
     "output_type": "stream",
     "text": [
      "5\n",
      "2025-07-08 02:23:45.382728+00:00\n"
     ]
    }
   ],
   "source": [
    "# insert 후에 자동저장되는 값들(pk, pub_date)이 모델객체의 field에 저장된다.\n",
    "print(new_q.pk)\n",
    "print(new_q.pub_date)"
   ]
  },
  {
   "cell_type": "code",
   "execution_count": 40,
   "id": "3486f324",
   "metadata": {},
   "outputs": [],
   "source": [
    "q = Question.objects.get(pk=4)\n",
    "q.question_text = \"여행으로 가고 싶은 나라를 선택해주세요.\""
   ]
  },
  {
   "cell_type": "code",
   "execution_count": 41,
   "id": "fc164578",
   "metadata": {},
   "outputs": [
    {
     "data": {
      "text/plain": [
       "<Question: 4. 여행으로 가고 싶은 나라를 선택해주세요.>"
      ]
     },
     "execution_count": 41,
     "metadata": {},
     "output_type": "execute_result"
    }
   ],
   "source": [
    "q"
   ]
  },
  {
   "cell_type": "code",
   "execution_count": 36,
   "id": "f08f02b2",
   "metadata": {},
   "outputs": [],
   "source": [
    "# q.pk = 4 -> DB에 있는 pk => update\n",
    "q.save()"
   ]
  },
  {
   "cell_type": "code",
   "execution_count": 42,
   "id": "32ea1baa",
   "metadata": {},
   "outputs": [
    {
     "name": "stdout",
     "output_type": "stream",
     "text": [
      "1. 좋아하는 색깔은 무엇입니까?\n",
      "2. 좋아하는 동물은 무엇입니까?\n",
      "3. 싫어하는 색깔을 고르세요\n",
      "4. 여행으로 가고 싶은 나라를 선택해주세요.\n",
      "5. 배우고 싶은 언어는 무엇입니까?\n"
     ]
    }
   ],
   "source": [
    "for q in Question.objects.all():\n",
    "    print(q)"
   ]
  },
  {
   "cell_type": "code",
   "execution_count": 48,
   "id": "9cf4a2e3",
   "metadata": {},
   "outputs": [],
   "source": [
    "q = Question.objects.get(pk=4)"
   ]
  },
  {
   "cell_type": "code",
   "execution_count": 50,
   "id": "48962d9e",
   "metadata": {},
   "outputs": [
    {
     "data": {
      "text/plain": [
       "<QuerySet []>"
      ]
     },
     "execution_count": 50,
     "metadata": {},
     "output_type": "execute_result"
    }
   ],
   "source": [
    "q.choice_set.all()"
   ]
  },
  {
   "cell_type": "code",
   "execution_count": 52,
   "id": "e43c3519",
   "metadata": {},
   "outputs": [],
   "source": [
    "# FK field -> 부모 Model 객체 (참조 Field값만 instance변수로 가지면 된다.)\n",
    "c = Choice(choice_text=\"미국\", question=q)\n",
    "c.save()"
   ]
  },
  {
   "cell_type": "code",
   "execution_count": 53,
   "id": "89fcde83",
   "metadata": {},
   "outputs": [
    {
     "data": {
      "text/plain": [
       "<QuerySet [<Choice: 7. 미국>]>"
      ]
     },
     "execution_count": 53,
     "metadata": {},
     "output_type": "execute_result"
    }
   ],
   "source": [
    "q.choice_set.all()"
   ]
  },
  {
   "cell_type": "code",
   "execution_count": 54,
   "id": "01802ce1",
   "metadata": {},
   "outputs": [],
   "source": [
    "c = Choice(choice_text=\"일본\", question=q)\n",
    "c.save()"
   ]
  },
  {
   "cell_type": "code",
   "execution_count": 55,
   "id": "85508081",
   "metadata": {},
   "outputs": [
    {
     "data": {
      "text/plain": [
       "<QuerySet [<Choice: 7. 미국>, <Choice: 8. 일본>]>"
      ]
     },
     "execution_count": 55,
     "metadata": {},
     "output_type": "execute_result"
    }
   ],
   "source": [
    "q.choice_set.all()"
   ]
  },
  {
   "cell_type": "code",
   "execution_count": 56,
   "id": "7bd4c7db",
   "metadata": {},
   "outputs": [
    {
     "name": "stdout",
     "output_type": "stream",
     "text": [
      "7 미국 0\n",
      "8 일본 0\n"
     ]
    }
   ],
   "source": [
    "for c in q.choice_set.all():\n",
    "    print(c.pk, c.choice_text, c.votes)"
   ]
  },
  {
   "cell_type": "code",
   "execution_count": 60,
   "id": "587492c5",
   "metadata": {},
   "outputs": [],
   "source": [
    "qq = Question(pk=4)\n",
    "c = Choice(choice_text=\"영국\", votes=20, question=qq)\n",
    "c.save()"
   ]
  },
  {
   "cell_type": "code",
   "execution_count": 61,
   "id": "a541e235",
   "metadata": {},
   "outputs": [
    {
     "name": "stdout",
     "output_type": "stream",
     "text": [
      "7 미국 0\n",
      "8 일본 0\n",
      "9 영국 20\n"
     ]
    }
   ],
   "source": [
    "for c in q.choice_set.all():\n",
    "    print(c.pk, c.choice_text, c.votes)"
   ]
  },
  {
   "cell_type": "markdown",
   "id": "f3464067",
   "metadata": {},
   "source": [
    "# delete\n",
    "- `모델객체.delete()`\n",
    "    - 모델객체의 pk의 data를 DB에 삭제."
   ]
  },
  {
   "cell_type": "code",
   "execution_count": 62,
   "id": "2a674124",
   "metadata": {},
   "outputs": [
    {
     "data": {
      "text/plain": [
       "(1, {'polls.Choice': 1})"
      ]
     },
     "execution_count": 62,
     "metadata": {},
     "output_type": "execute_result"
    }
   ],
   "source": [
    "c15 = Choice.objects.get(pk=3)\n",
    "c15.delete()"
   ]
  },
  {
   "cell_type": "code",
   "execution_count": 67,
   "id": "fad03103",
   "metadata": {},
   "outputs": [],
   "source": [
    "# choice에서 id가 10이상인 값들을 삭제\n",
    "# delete from choice where id >= 10\n",
    "del_c = Choice.objects.filter(pk__gte=7)\n",
    "for c in del_c:\n",
    "    c.delete()"
   ]
  },
  {
   "cell_type": "code",
   "execution_count": 68,
   "id": "e2105d48",
   "metadata": {},
   "outputs": [
    {
     "name": "stdout",
     "output_type": "stream",
     "text": [
      "1. 파란색\n",
      "2. 노란색\n",
      "4. 보라색\n",
      "5. 빨간색\n",
      "6. 보라색\n"
     ]
    }
   ],
   "source": [
    "for c in Choice.objects.all():\n",
    "    print(c)"
   ]
  },
  {
   "cell_type": "code",
   "execution_count": 72,
   "id": "52d1700e",
   "metadata": {},
   "outputs": [
    {
     "name": "stdout",
     "output_type": "stream",
     "text": [
      "1. 파란색 1. 좋아하는 색깔은 무엇입니까?\n",
      "2. 노란색 1. 좋아하는 색깔은 무엇입니까?\n",
      "4. 보라색 1. 좋아하는 색깔은 무엇입니까?\n",
      "5. 빨간색 1. 좋아하는 색깔은 무엇입니까?\n",
      "6. 보라색 1. 좋아하는 색깔은 무엇입니까?\n"
     ]
    }
   ],
   "source": [
    "result = Choice.objects.raw(\"select * from polls_choice\")\n",
    "for r in result:\n",
    "    print(r, r.question)"
   ]
  },
  {
   "cell_type": "code",
   "execution_count": null,
   "id": "dbbc3855",
   "metadata": {},
   "outputs": [
    {
     "name": "stdout",
     "output_type": "stream",
     "text": [
      "[['0', '1', '1'], ['0', '1', '0', '1'], ['0', '1', '0', '0', '0'], ['0', '0']]\n"
     ]
    }
   ],
   "source": [
    "def solution(numbers):\n",
    "    binary = [list('0'+bin(num)[2:]) for num in numbers]\n",
    "    for token in binary:\n",
    "        if token[len(token)]==0:\n",
    "            token[len(token)-1]=1\n",
    "        elif token[len(token)]==1 & token[len(token)-1]==0:\n",
    "            token[len(token)]=0\n",
    "            token[len(token)-1]=1\n",
    "        elif token\n",
    "        \n",
    "    # return binary\n",
    "\n",
    "numbers = [3, 5, 8, 0]\n",
    "print(solution(numbers))"
   ]
  },
  {
   "cell_type": "code",
   "execution_count": 122,
   "id": "eda789e6",
   "metadata": {},
   "outputs": [
    {
     "data": {
      "text/plain": [
       "list"
      ]
     },
     "execution_count": 122,
     "metadata": {},
     "output_type": "execute_result"
    }
   ],
   "source": [
    "def solution(numbers):\n",
    "    binary = [list('0'+bin(num)[2:])[::-1] for num in numbers]\n",
    "    return binary\n",
    "\n",
    "numbers = [3, 5, 8, 0]\n",
    "type(solution(numbers))"
   ]
  },
  {
   "cell_type": "code",
   "execution_count": 145,
   "id": "76ef3b92",
   "metadata": {},
   "outputs": [
    {
     "name": "stdout",
     "output_type": "stream",
     "text": [
      "[['1', '1', '0'], ['1', '0', '1', '0'], ['0', '0', '0', '1', '0'], ['0', '0']]\n"
     ]
    }
   ],
   "source": [
    "binary = [list('0'+bin(num)[2:])[::-1] for num in numbers]\n",
    "for i in range(len(binary)):\n",
    "    if binary[i][0]==0:\n",
    "        binary[i][0]=1\n",
    "    elif binary[i][0]==1 and binary[i][1]==0:\n",
    "        binary[i][0], binary[i][1] = binary[i][1], binary[i][0]\n",
    "print(binary)"
   ]
  },
  {
   "cell_type": "code",
   "execution_count": null,
   "id": "0dd483c4",
   "metadata": {},
   "outputs": [
    {
     "name": "stdout",
     "output_type": "stream",
     "text": [
      "[5, 6, 11, 9, 11]\n"
     ]
    }
   ],
   "source": [
    "def solution(numbers):\n",
    "    answer = []\n",
    "    binary = [list('0'+bin(num)[2:])[::-1] for num in numbers]\n",
    "    for i in range(len(binary)):\n",
    "        for j in range(len(binary[i])-1):\n",
    "            if binary[i][0]=='0':\n",
    "                binary[i][0]='1'\n",
    "                break\n",
    "            elif binary[i][j]=='1' and binary[i][j+1]=='0':\n",
    "                binary[i][j], binary[i][j+1] = binary[i][j+1], binary[i][j]\n",
    "                break\n",
    "        decimal = int(''.join(binary[i][::-1]), 2)\n",
    "        answer.append(decimal)\n",
    "    return answer"
   ]
  },
  {
   "cell_type": "code",
   "execution_count": null,
   "id": "3bb84a81",
   "metadata": {},
   "outputs": [],
   "source": [
    "def solution(bridge_length, weight, truck_weights):\n",
    "    time = 0\n",
    "    sum_w = 0\n",
    "    cnt = 1\n",
    "\n",
    "    if len(truck_weights)==1:\n",
    "        time += bridge_length\n",
    "    while sum_w > weight:\n",
    "        for n in range(len(truck_weights)):\n",
    "            sum_w += truck_weights[n]\n",
    "            cnt += 1\n",
    "    time += bridge_length-(bridge_length-cnt)\n",
    "    \n",
    "    answer = 1 + time\n",
    "    return answer\n",
    "\n",
    "a = 100, b= 100, c = [10]\n"
   ]
  },
  {
   "cell_type": "code",
   "execution_count": 9,
   "id": "2aa51feb",
   "metadata": {},
   "outputs": [
    {
     "data": {
      "text/plain": [
       "4"
      ]
     },
     "execution_count": 9,
     "metadata": {},
     "output_type": "execute_result"
    }
   ],
   "source": [
    "def solution(bridge_length, weight, truck_weights):\n",
    "    time = 0\n",
    "    sum_w = 0\n",
    "    cnt = 1\n",
    "    \n",
    "    if len(truck_weights)==1:\n",
    "        time += bridge_length\n",
    "    for w in range(len(truck_weights)-1):\n",
    "        while 1:\n",
    "            if sum_w <= weight:\n",
    "                sum_w += truck_weights[w]\n",
    "                cnt += 1\n",
    "            cnt=0\n",
    "            break\n",
    "        time += bridge_length+cnt-1\n",
    "    answer = 1 + time\n",
    "    return answer\n",
    "\n",
    "a=2\n",
    "b=10\n",
    "c=[7,4,5,6]\n",
    "solution(a,b,c)"
   ]
  },
  {
   "cell_type": "code",
   "execution_count": null,
   "id": "ebdd7d7e",
   "metadata": {},
   "outputs": [],
   "source": [
    "q = Question.objects.get(pk=1)\n",
    "print(q.pk, q.question_text)\n",
    "for c in q.choice_set.all():\n",
    "    print(c.pk, c.choice_text)"
   ]
  },
  {
   "cell_type": "code",
   "execution_count": 1,
   "id": "ed4fe439",
   "metadata": {},
   "outputs": [],
   "source": [
    "def solution(ingredient):\n",
    "    ingredient = \" \".join(map(str, ingredient))\n",
    "    target = '1231'\n",
    "    cnt = 0\n",
    "    i = 0\n",
    "    while i<len(ingredient):\n",
    "        text = ''\n",
    "        if ingredient[i:i+len(target)] == target:\n",
    "            cnt += 1\n",
    "            i += len(target)\n",
    "        else :\n",
    "            text += ingredient[i]\n",
    "            i += 1\n",
    "    answer = cnt\n",
    "    return answer"
   ]
  },
  {
   "cell_type": "code",
   "execution_count": null,
   "id": "ea9f8ebb",
   "metadata": {},
   "outputs": [
    {
     "ename": "AttributeError",
     "evalue": "'str' object has no attribute 'append'",
     "output_type": "error",
     "traceback": [
      "\u001b[31m---------------------------------------------------------------------------\u001b[39m",
      "\u001b[31mAttributeError\u001b[39m                            Traceback (most recent call last)",
      "\u001b[36mCell\u001b[39m\u001b[36m \u001b[39m\u001b[32mIn[12]\u001b[39m\u001b[32m, line 13\u001b[39m\n\u001b[32m     11\u001b[39m         i += \u001b[38;5;28mlen\u001b[39m(target)\n\u001b[32m     12\u001b[39m     \u001b[38;5;28;01melse\u001b[39;00m :\n\u001b[32m---> \u001b[39m\u001b[32m13\u001b[39m         \u001b[43mtext\u001b[49m\u001b[43m.\u001b[49m\u001b[43mappend\u001b[49m(text[i])\n\u001b[32m     14\u001b[39m         i += \u001b[32m1\u001b[39m\n\u001b[32m     15\u001b[39m \u001b[38;5;28mprint\u001b[39m(text)\n",
      "\u001b[31mAttributeError\u001b[39m: 'str' object has no attribute 'append'"
     ]
    }
   ],
   "source": [
    "ingredient = [2,1,1,2,3,1,2,3,1]\n",
    "target = [1,2,3,1]\n",
    "cnt = 0\n",
    "i = 0\n",
    "text = ''\n",
    "text_len = len(ingredient)\n",
    "while 1:\n",
    "    while i<text_len:\n",
    "        if text[i:i+len(target)] == target:\n",
    "            cnt += 1\n",
    "            i += len(target)\n",
    "        else :\n",
    "            text.append(text[i])\n",
    "            i += 1\n",
    "    print(text)\n",
    "    if target in text:s\n",
    "        print(text)\n",
    "    else: break\n",
    "        \n",
    "cnt"
   ]
  }
 ],
 "metadata": {
  "kernelspec": {
   "display_name": "lang_env",
   "language": "python",
   "name": "python3"
  },
  "language_info": {
   "codemirror_mode": {
    "name": "ipython",
    "version": 3
   },
   "file_extension": ".py",
   "mimetype": "text/x-python",
   "name": "python",
   "nbconvert_exporter": "python",
   "pygments_lexer": "ipython3",
   "version": "3.12.9"
  }
 },
 "nbformat": 4,
 "nbformat_minor": 5
}
